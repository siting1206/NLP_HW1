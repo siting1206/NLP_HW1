{
  "cells": [
    {
      "cell_type": "markdown",
      "metadata": {
        "id": "view-in-github",
        "colab_type": "text"
      },
      "source": [
        "<a href=\"https://colab.research.google.com/github/siting1206/NLP_HW1/blob/main/NER_Model_1031.ipynb\" target=\"_parent\"><img src=\"https://colab.research.google.com/assets/colab-badge.svg\" alt=\"Open In Colab\"/></a>"
      ]
    },
    {
      "cell_type": "code",
      "execution_count": 588,
      "metadata": {
        "id": "xWa2tup-AoVe"
      },
      "outputs": [],
      "source": [
        "import torch\n",
        "import torch.nn as nn\n",
        "import torch.nn.functional as F\n",
        "import torch.optim as optim\n",
        "import matplotlib\n",
        "import matplotlib.pyplot as plt\n",
        "from sklearn.manifold import TSNE"
      ]
    },
    {
      "cell_type": "code",
      "execution_count": 589,
      "metadata": {
        "id": "2mYXazzr4ghf"
      },
      "outputs": [],
      "source": [
        "%matplotlib inline\n",
        "import time\n",
        "import numpy as np\n",
        "import pandas as pd\n",
        "import random\n",
        "import collections\n",
        "\n",
        "import matplotlib.pyplot as plt\n",
        "\n",
        "from collections import namedtuple\n",
        "from tensorflow.keras.preprocessing.sequence import pad_sequences\n",
        "\n",
        "import regex as re\n",
        "import os, string, sys\n",
        "\n",
        "from gensim.models.word2vec import Word2Vec"
      ]
    },
    {
      "cell_type": "code",
      "execution_count": 590,
      "metadata": {
        "colab": {
          "base_uri": "https://localhost:8080/"
        },
        "id": "4Sn2MbKn4sCP",
        "outputId": "cea889eb-4fc0-4782-f137-afa4aace4bc4"
      },
      "outputs": [
        {
          "output_type": "stream",
          "name": "stdout",
          "text": [
            "Drive already mounted at /content/drive; to attempt to forcibly remount, call drive.mount(\"/content/drive\", force_remount=True).\n"
          ]
        }
      ],
      "source": [
        "from google.colab import drive\n",
        "drive.mount('/content/drive')"
      ]
    },
    {
      "cell_type": "code",
      "execution_count": 591,
      "metadata": {
        "id": "G8mLYhI54wUz"
      },
      "outputs": [],
      "source": [
        "class RegexFeatures(object):\n",
        "    PATTERNS = {\n",
        "        \"repeatedPunctuation\": re.compile(r'^[\\.\\,!\\?\"\\':;_\\-]{2,}$'),\n",
        "        \"isNumber\": re.compile(r'^((\\p{N}{,2}([,]?\\p{N}{3})+)(\\.\\p{N}+)?)$'),\n",
        "        \"isURL\": re.compile(r'^http[s]?://'),\n",
        "        \"isMention\": re.compile(r'^(RT)?@[\\p{Alnum}_]+$'),\n",
        "        \"isHashtag\": re.compile(r'^#\\p{Alnum}+$'),\n",
        "        \"isMoney\": re.compile(r'^\\$((\\p{N}{,2}([,]?\\p{N}{3})+)(\\.\\p{N}+)?)$'),\n",
        "    }\n",
        "    def __init__(self):\n",
        "        print(\"Initialized RegexFeature\")\n",
        "    def process(word):\n",
        "        features = dict()\n",
        "        for k, p in RegexFeatures.PATTERNS.iteritems():\n",
        "            if p.match(word):\n",
        "                features[k] = True\n",
        "        return features\n",
        "\n",
        "\n",
        "Tag = namedtuple(\"Tag\", [\"token\", \"tag\"])\n",
        "\n",
        "def load_sequences(filename, sep=\"\\t\", notypes=False, test_data=False):\n",
        "    sequences = []\n",
        "    with open(filename) as fp:\n",
        "        seq = []\n",
        "        for line in fp:\n",
        "            line = line.strip()\n",
        "            if line:\n",
        "                line = line.split(sep)\n",
        "                seq.append(Tag(*line))\n",
        "            else:\n",
        "                sequences.append(seq)\n",
        "                seq = []\n",
        "        if seq:\n",
        "            sequences.append(seq)\n",
        "    return sequences\n",
        "\n",
        "def load_test_sequences(filename, sep=\"\\t\"):\n",
        "    sequences = []\n",
        "    with open(filename) as fp:\n",
        "        seq = []\n",
        "        for line in fp:\n",
        "          line = line.strip()\n",
        "          if line:\n",
        "            seq.append(line)\n",
        "          else:\n",
        "            sequences.append(seq)\n",
        "            seq = []\n",
        "        if seq:\n",
        "          sequences.append(seq)\n",
        "    return sequences"
      ]
    },
    {
      "cell_type": "code",
      "execution_count": 592,
      "metadata": {
        "id": "LePdhjoa4yJV"
      },
      "outputs": [],
      "source": [
        "train_sequences = load_sequences(\"drive/MyDrive/NLP_assignment1/data/train.txt\", sep=\"\\t\", notypes=True)\n",
        "dev_sequences = load_sequences(\"drive/MyDrive/NLP_assignment1/data/dev.txt\", sep=\"\\t\", notypes=False)\n",
        "test_sequences = load_test_sequences(\"drive/MyDrive/NLP_assignment1/data/test-submit.txt\", sep=\"\\t\")"
      ]
    },
    {
      "cell_type": "code",
      "execution_count": 593,
      "metadata": {
        "id": "nbNSXTSb4z9V"
      },
      "outputs": [],
      "source": [
        "train_sentences = [[t[0] for t in seq] for seq in (train_sequences)]\n",
        "train_tags = [[t[1] for t in seq] for seq in (train_sequences)]\n",
        "\n",
        "valid_sentences = [[t[0] for t in seq] for seq in (dev_sequences)]\n",
        "valid_tags = [[t[1] for t in seq] for seq in (dev_sequences)]\n",
        "\n",
        "# print(train_sentences)"
      ]
    },
    {
      "cell_type": "code",
      "execution_count": 594,
      "metadata": {
        "colab": {
          "base_uri": "https://localhost:8080/"
        },
        "id": "ZxcX1NFd42IY",
        "outputId": "b6c9181b-addc-4c97-b694-34f0550b9d34"
      },
      "outputs": [
        {
          "output_type": "stream",
          "name": "stdout",
          "text": [
            "isHashtag 440\n",
            "isMention 1292\n",
            "isURL 448\n",
            "isMoney 5\n",
            "isNumber 120\n",
            "repeatedPunctuation 1059\n"
          ]
        }
      ],
      "source": [
        "other_entities = {\n",
        "    \"isHashtag\": [],\n",
        "    \"isMention\": [],\n",
        "    \"isURL\": [],\n",
        "    \"isMoney\": [],\n",
        "    \"isNumber\": [],\n",
        "    \"repeatedPunctuation\": []\n",
        "}\n",
        "for seq in train_sentences:\n",
        "    for t in seq:\n",
        "        for k in other_entities.keys():\n",
        "            if RegexFeatures.PATTERNS[k].match(t):\n",
        "                other_entities[k].append(t)\n",
        "for k, v in other_entities.items():\n",
        "    print(k, len(v))"
      ]
    },
    {
      "cell_type": "code",
      "execution_count": 595,
      "metadata": {
        "colab": {
          "base_uri": "https://localhost:8080/"
        },
        "id": "mNiUeJ5X49HT",
        "outputId": "8f6fa525-a207-4a27-9f7b-40f6f7e10a56"
      },
      "outputs": [
        {
          "output_type": "execute_result",
          "data": {
            "text/plain": [
              "{'isHashtag': '__isHashtag__',\n",
              " 'isMention': '__isMention__',\n",
              " 'isURL': '__isURL__',\n",
              " 'isMoney': '__isMoney__',\n",
              " 'isNumber': '__isNumber__',\n",
              " 'repeatedPunctuation': '__repeatedPunctuation__'}"
            ]
          },
          "metadata": {},
          "execution_count": 595
        }
      ],
      "source": [
        "ENTITY_MAPPINGS={k: \"__%s__\" % k for k in other_entities.keys()}\n",
        "ENTITY_MAPPINGS"
      ]
    },
    {
      "cell_type": "code",
      "execution_count": 596,
      "metadata": {
        "id": "bW6FRHHL4-nQ"
      },
      "outputs": [],
      "source": [
        "def preprocess_token(x, to_lower=False):\n",
        "    for k in ENTITY_MAPPINGS.keys():\n",
        "        if RegexFeatures.PATTERNS[k].match(x):\n",
        "            return ENTITY_MAPPINGS[k]\n",
        "    if to_lower:\n",
        "        x = x.lower()\n",
        "    return x"
      ]
    },
    {
      "cell_type": "code",
      "execution_count": 597,
      "metadata": {
        "id": "_hN9gId45ASm"
      },
      "outputs": [],
      "source": [
        "train_pre_seq = [[preprocess_token(t[0], to_lower=False) for t in seq] for seq in train_sequences]\n",
        "dev_pre_seq = [[preprocess_token(t[0], to_lower=False) for t in seq] for seq in dev_sequences]\n",
        "test_pre_seq = [[preprocess_token(t, to_lower=False) for t in seq] for seq in test_sequences]"
      ]
    },
    {
      "cell_type": "code",
      "execution_count": 598,
      "metadata": {
        "colab": {
          "base_uri": "https://localhost:8080/"
        },
        "id": "obFtwQQI8I_y",
        "outputId": "38264ea6-e8e5-41f8-edf5-c6980682c24a"
      },
      "outputs": [
        {
          "output_type": "stream",
          "name": "stdout",
          "text": [
            "62730\n"
          ]
        }
      ],
      "source": [
        "words = []\n",
        "for seq in (train_pre_seq+dev_pre_seq):\n",
        "  for word in seq:\n",
        "    words.append(word)\n",
        "print(len(words))"
      ]
    },
    {
      "cell_type": "code",
      "execution_count": 599,
      "metadata": {
        "colab": {
          "base_uri": "https://localhost:8080/"
        },
        "id": "fn2J_NHQ5B0C",
        "outputId": "f6e9570e-3220-4866-a337-98696bda7b97"
      },
      "outputs": [
        {
          "output_type": "stream",
          "name": "stdout",
          "text": [
            "{'I-company': 1, 'B-movie': 2, 'I-musicartist': 3, 'B-product': 4, 'I-sportsteam': 5, 'I-product': 6, 'B-other': 7, 'I-geo-loc': 8, 'I-other': 9, 'B-sportsteam': 10, 'B-tvshow': 11, 'B-musicartist': 12, 'B-person': 13, 'B-geo-loc': 14, 'B-facility': 15, 'I-person': 16, 'I-facility': 17, 'I-tvshow': 18, 'I-movie': 19, 'B-company': 20, 'O': 21}\n"
          ]
        }
      ],
      "source": [
        "word2vec_sentences = [preprocess_token(t[0], to_lower=False) for seq in train_sequences for t in seq]\n",
        "tag2vec_sentences = [t[1] for seq in train_sequences for t in seq]\n",
        "s_words=list(set(word2vec_sentences))\n",
        "s_tags=list(set(tag2vec_sentences))\n",
        "w_index={t:j for j,t in enumerate(s_words)}\n",
        "t_index={t:j+1 for j,t in enumerate(s_tags)}\n",
        "print(t_index)\n",
        "n_words = len(w_index)\n",
        "n_tags = len(t_index)\n",
        "y_train = [[t_index[w[1]] for w in s] for s in train_sequences]\n",
        "y_valid = [[t_index[w[1]] for w in s] for s in dev_sequences]"
      ]
    },
    {
      "cell_type": "code",
      "execution_count": 600,
      "metadata": {
        "id": "QgHUat2B5Dh7"
      },
      "outputs": [],
      "source": [
        "train_maxl = max([len(s) for s in train_pre_seq])\n",
        "dev_maxl = max([len(s) for s in dev_pre_seq])\n",
        "# print ('Maximum length in the list of train_sentences:', train_maxl)\n",
        "# print ('Maximum length in the list of dev_sentences:', dev_maxl)\n",
        "maxl = max(train_maxl, dev_maxl)"
      ]
    },
    {
      "cell_type": "code",
      "execution_count": 601,
      "metadata": {
        "id": "rZ9kC7jY5GP2"
      },
      "outputs": [],
      "source": [
        "def build_dataset(words, vocabulary_size=10000):\n",
        "    token_count = [['UNK', -1]]\n",
        "    token_count.extend(collections.Counter(words).most_common(vocabulary_size - 1))\n",
        "    word2idx = dict()\n",
        "    data = []\n",
        "    unk_count = 0\n",
        "\n",
        "    for word, _ in token_count:\n",
        "        word2idx[word] = len(word2idx)\n",
        "\n",
        "    word_set = set(word2idx.keys())\n",
        "\n",
        "    for word in words:\n",
        "        if word in word_set:\n",
        "            index = word2idx[word]\n",
        "        else:\n",
        "            index = 0\n",
        "            unk_count += 1\n",
        "        data.append(index)\n",
        "\n",
        "    token_count[0][1] = unk_count\n",
        "\n",
        "    idx2word = {idx: word for word, idx in word2idx.items()}\n",
        "    return data, token_count, word2idx, idx2word"
      ]
    },
    {
      "cell_type": "code",
      "execution_count": 602,
      "metadata": {
        "colab": {
          "base_uri": "https://localhost:8080/"
        },
        "id": "sjJFuvJ-5P_x",
        "outputId": "0444ab92-7033-4768-e58d-13516d8fb4c2"
      },
      "outputs": [
        {
          "output_type": "stream",
          "name": "stdout",
          "text": [
            "Most common words (+UNK) [['UNK', 1299], ('__isMention__', 1950), ('.', 1936), ('__repeatedPunctuation__', 1294), (',', 1274), (':', 1163)]\n",
            "Sample data: index: [1, 1, 94, 44, 27, 51, 238, 81, 83, 1681], token: ['__isMention__', '__isMention__', 'they', 'will', 'be', 'all', 'done', 'by', 'Sunday', 'trust']\n"
          ]
        }
      ],
      "source": [
        "vocabulary_size = 10000\n",
        "data, count, word2idx, idx2word = build_dataset(words, vocabulary_size)\n",
        "words = list(word2idx.keys())\n",
        "print('Most common words (+UNK)', count[:6])\n",
        "print('Sample data: index: {0}, token: {1}'.format(data[:10], [idx2word[i] for i in data[:10] ]))"
      ]
    },
    {
      "cell_type": "code",
      "execution_count": 603,
      "metadata": {
        "id": "o5tMZ2T39kMY"
      },
      "outputs": [],
      "source": [
        "def generate_batch(data, batch_size, num_skips, skip_window):\n",
        "  global data_index\n",
        "  assert batch_size % num_skips == 0\n",
        "  assert num_skips <= 2 * skip_window\n",
        "  batch = np.ndarray(shape=(batch_size), dtype=np.int32)\n",
        "  labels = np.ndarray(shape=(batch_size, 1), dtype=np.int32)\n",
        "  # total window length\n",
        "  span = 2 * skip_window + 1  # [skip_window target skip_window ]\n",
        "  buffer = collections.deque(maxlen=span)\n",
        "  # 從data開頭添加整个window size的index\n",
        "  for _ in range(span):\n",
        "    buffer.append(data[data_index])\n",
        "    # 防止index溢出\n",
        "    data_index = (data_index + 1) % len(data)\n",
        "    # print(buffer, '\\n')\n",
        "    # print(data[data_index], idx2word[data[data_index]], '\\n')\n",
        "  for i in range(batch_size // num_skips):\n",
        "    # center在window中的位置\n",
        "    target = skip_window\n",
        "    targets_to_avoid = [skip_window]\n",
        "    # print('i=',i,'target=',target,'targets_to_avoid=',targets_to_avoid,'\\n')\n",
        "    for j in range(num_skips):\n",
        "        # window中採樣非center的word\n",
        "      while target in targets_to_avoid:\n",
        "        target = random.randint(0, span - 1)\n",
        "        # print(target)\n",
        "      targets_to_avoid.append(target)\n",
        "      # print(target,'\\t',targets_to_avoid,'\\n')\n",
        "        # index為batch中的第幾個數據\n",
        "      batch[i * num_skips + j] = buffer[skip_window]\n",
        "      labels[i * num_skips + j, 0] = buffer[target]\n",
        "\n",
        "    buffer.append(data[data_index])\n",
        "    data_index = (data_index + 1) % len(data)\n",
        "  return batch, labels\n",
        "\n",
        "data_index = 0\n",
        "batch_size = 16\n",
        "# left and right target number.\n",
        "skip_window = 4\n",
        "# how many target in window.\n",
        "num_skips = 8\n",
        "\n",
        "batch, labels = generate_batch(data=data, batch_size=batch_size,\n",
        "                               num_skips=num_skips, skip_window=skip_window)"
      ]
    },
    {
      "cell_type": "code",
      "execution_count": 604,
      "metadata": {
        "id": "UmWXHwa-AgRo"
      },
      "outputs": [],
      "source": [
        "class SkipGram(nn.Module):\n",
        "    def __init__(self, args):\n",
        "        super().__init__()\n",
        "\n",
        "        self.vocabulary_size = args.vocabulary_size\n",
        "        self.embedding_size = args.embedding_size\n",
        "\n",
        "        self.embedding = nn.Embedding(self.vocabulary_size, self.embedding_size) # W = vd lookup  [1*v']*[V*embedding_size]  -> [v* embedding_size]\n",
        "        self.output = nn.Linear(self.embedding_size, self.vocabulary_size)\n",
        "        self.log_softmax = nn.LogSoftmax(dim=1)\n",
        "\n",
        "    def forward(self, x):    #x 16\n",
        "        x = self.embedding(x)  #x  16*128\n",
        "        x = self.output(x)     #x  16*40000\n",
        "        log_ps = self.log_softmax(x)  #x 16*40000\n",
        "        return log_ps"
      ]
    },
    {
      "cell_type": "code",
      "execution_count": 605,
      "metadata": {
        "id": "lJ0XXCC1AtEW"
      },
      "outputs": [],
      "source": [
        "class config():\n",
        "    def __init__(self):\n",
        "        self.num_steps = 200\n",
        "        self.batch_size = 128\n",
        "        self.check_step = 20\n",
        "\n",
        "        self.vocabulary_size = 10000\n",
        "        self.embedding_size = 50  # Dimension of the embedding vector.\n",
        "        self.skip_window = 4  # How many words to consider left and right.\n",
        "        self.num_skips = 8  # How many times to reuse an input to generate a label.\n",
        "\n",
        "        self.use_cuda = torch.cuda.is_available()\n",
        "\n",
        "        self.lr = 0.03"
      ]
    },
    {
      "cell_type": "code",
      "execution_count": 606,
      "metadata": {
        "colab": {
          "base_uri": "https://localhost:8080/"
        },
        "id": "e9-h-kwjAvk8",
        "outputId": "fd86f94f-4c59-4d30-eaa1-2f6573fdb6cc"
      },
      "outputs": [
        {
          "output_type": "stream",
          "name": "stdout",
          "text": [
            "SkipGram(\n",
            "  (embedding): Embedding(10000, 50)\n",
            "  (output): Linear(in_features=50, out_features=10000, bias=True)\n",
            "  (log_softmax): LogSoftmax(dim=1)\n",
            ")\n"
          ]
        }
      ],
      "source": [
        "args = config()\n",
        "\n",
        "model_SkipGram = SkipGram(args)\n",
        "print(model_SkipGram)"
      ]
    },
    {
      "cell_type": "code",
      "execution_count": 607,
      "metadata": {
        "colab": {
          "base_uri": "https://localhost:8080/"
        },
        "id": "u6TQntDFA269",
        "outputId": "2b1b9cc0-52e6-44e0-a3fc-cb5248e50c0c"
      },
      "outputs": [
        {
          "output_type": "stream",
          "name": "stdout",
          "text": [
            "--------------------------------------------------\n",
            "Start training.\n",
            "Average loss as step 20: 9.08, cost: 0.61s.\n",
            "Average loss as step 40: 8.54, cost: 0.63s.\n",
            "Average loss as step 60: 8.37, cost: 0.60s.\n",
            "Average loss as step 80: 8.22, cost: 0.61s.\n",
            "Average loss as step 100: 8.27, cost: 0.61s.\n",
            "Average loss as step 120: 8.16, cost: 0.57s.\n",
            "Average loss as step 140: 7.94, cost: 0.60s.\n",
            "Average loss as step 160: 8.06, cost: 0.58s.\n",
            "Average loss as step 180: 8.22, cost: 0.64s.\n"
          ]
        }
      ],
      "source": [
        "if args.use_cuda:\n",
        "    model_SkipGram = model_SkipGram.to('cuda')\n",
        "\n",
        "nll_loss = nn.NLLLoss()\n",
        "adam_optimizer = optim.Adam(model_SkipGram.parameters(), lr=args.lr)\n",
        "\n",
        "print('-'*50)\n",
        "print('Start training.')\n",
        "average_loss = 0\n",
        "start_time = time.time()\n",
        "for step in range(1, args.num_steps):\n",
        "    batch_inputs, batch_labels = generate_batch(\n",
        "        data, args.batch_size, args.num_skips, args.skip_window)\n",
        "    batch_labels = batch_labels.squeeze()\n",
        "    batch_inputs, batch_labels = torch.LongTensor(batch_inputs), torch.LongTensor(batch_labels)\n",
        "    if args.use_cuda:\n",
        "        batch_inputs, batch_labels = batch_inputs.to('cuda'), batch_labels.to('cuda')\n",
        "    log_ps = model_SkipGram(batch_inputs)\n",
        "    loss = nll_loss(log_ps, batch_labels)\n",
        "    average_loss += loss\n",
        "    adam_optimizer.zero_grad()\n",
        "    loss.backward()\n",
        "    adam_optimizer.step()\n",
        "    if step % args.check_step == 0:\n",
        "        end_time = time.time()\n",
        "        average_loss /= args.check_step\n",
        "        print('Average loss as step {0}: {1:.2f}, cost: {2:.2f}s.'.format(step, average_loss, end_time-start_time))\n",
        "        start_time = time.time()\n",
        "        average_loss = 0"
      ]
    },
    {
      "cell_type": "code",
      "source": [
        "embedding_matrix = model_SkipGram.embedding.weight.data\n",
        "embedding_matrix = embedding_matrix.detach().numpy()\n",
        "embedding_matrix = np.vstack((np.array(np.zeros(50)), embedding_matrix))\n",
        "print(embedding_matrix.shape)"
      ],
      "metadata": {
        "colab": {
          "base_uri": "https://localhost:8080/"
        },
        "id": "yg4uf5aTe9KS",
        "outputId": "5af15ba9-aeb3-4a20-a30c-73cdc47445c6"
      },
      "execution_count": 608,
      "outputs": [
        {
          "output_type": "stream",
          "name": "stdout",
          "text": [
            "(10001, 50)\n"
          ]
        }
      ]
    },
    {
      "cell_type": "code",
      "source": [
        "X_train = np.zeros([len(train_pre_seq), maxl], dtype='float32')\n",
        "for i in range(len(train_pre_seq)):\n",
        "  for j in range(min(len(train_pre_seq[i]),maxl)):\n",
        "    X_train[i,j] = word2idx[train_pre_seq[i][j]]\n",
        "\n",
        "X_valid = np.zeros([len(dev_pre_seq), maxl], dtype='float32')\n",
        "for i in range(len(dev_pre_seq)):\n",
        "  for j in range(min(len(dev_pre_seq[i]),maxl)):\n",
        "    if dev_pre_seq[i][j] in word2idx:\n",
        "      X_valid[i,j] = word2idx[dev_pre_seq[i][j]]\n",
        "    else:\n",
        "      X_valid[i,j] = word2idx['UNK']\n",
        "\n",
        "X_test = np.zeros([len(test_pre_seq), maxl], dtype='float32')\n",
        "for i in range(len(test_pre_seq)):\n",
        "  for j in range(min(len(test_pre_seq[i]),maxl)):\n",
        "    if test_pre_seq[i][j] in word2idx:\n",
        "      X_test[i,j] = word2idx[test_pre_seq[i][j]]\n",
        "    else:\n",
        "      X_test[i,j] = word2idx['UNK']"
      ],
      "metadata": {
        "id": "1py9Nv6lKdjs"
      },
      "execution_count": 609,
      "outputs": []
    },
    {
      "cell_type": "code",
      "source": [
        "from keras.utils import to_categorical\n",
        "y_train = pad_sequences(maxlen=maxl, padding='post', sequences=y_train)\n",
        "print(t_index)\n",
        "y_train = to_categorical(y_train) # (2394,41)->(2394,41,22)\n",
        "print(X_train.shape, y_train.shape)\n",
        "\n",
        "y_valid = pad_sequences(maxlen=maxl, padding='post', sequences=y_valid)\n",
        "y_valid = to_categorical(y_valid) # (1000,41)->(1000,41,22)\n",
        "print(X_valid.shape, y_valid.shape)"
      ],
      "metadata": {
        "colab": {
          "base_uri": "https://localhost:8080/"
        },
        "id": "_lfAI-VWepAo",
        "outputId": "e1bd774e-191e-4abf-cc4a-51874f93ded7"
      },
      "execution_count": 610,
      "outputs": [
        {
          "output_type": "stream",
          "name": "stdout",
          "text": [
            "{'I-company': 1, 'B-movie': 2, 'I-musicartist': 3, 'B-product': 4, 'I-sportsteam': 5, 'I-product': 6, 'B-other': 7, 'I-geo-loc': 8, 'I-other': 9, 'B-sportsteam': 10, 'B-tvshow': 11, 'B-musicartist': 12, 'B-person': 13, 'B-geo-loc': 14, 'B-facility': 15, 'I-person': 16, 'I-facility': 17, 'I-tvshow': 18, 'I-movie': 19, 'B-company': 20, 'O': 21}\n",
            "(2394, 41) (2394, 41, 22)\n",
            "(1000, 41) (1000, 41, 22)\n"
          ]
        }
      ]
    },
    {
      "cell_type": "code",
      "source": [
        "from tensorflow.keras import Model, Input\n",
        "from tensorflow.keras.layers import LSTM, Embedding, Dense\n",
        "from tensorflow.keras.layers import TimeDistributed, SpatialDropout1D, Bidirectional"
      ],
      "metadata": {
        "id": "4_V9OrdXeroY"
      },
      "execution_count": 611,
      "outputs": []
    },
    {
      "cell_type": "code",
      "source": [
        "input=Input(shape=maxl)\n",
        "model=Embedding(len(embedding_matrix), 50)(input)\n",
        "model=SpatialDropout1D(0.1)(model)\n",
        "model=Bidirectional(LSTM(units=150,return_sequences=True, recurrent_dropout=0.1))(model)\n",
        "output = TimeDistributed(Dense(n_tags+1, activation=\"softmax\"))(model)"
      ],
      "metadata": {
        "id": "_TcMAP5ZetGb"
      },
      "execution_count": 612,
      "outputs": []
    },
    {
      "cell_type": "code",
      "source": [
        "model=Model(input,output)\n",
        "# model.summary()"
      ],
      "metadata": {
        "id": "ewpl3deQfSqh"
      },
      "execution_count": 613,
      "outputs": []
    },
    {
      "cell_type": "code",
      "source": [
        "model.layers[1].set_weights([embedding_matrix])\n",
        "model.layers[1].trainable=False\n",
        "model.summary()"
      ],
      "metadata": {
        "colab": {
          "base_uri": "https://localhost:8080/"
        },
        "id": "9VeEIayRfXla",
        "outputId": "7c24e9ad-3a0e-41ff-87c2-3907ab1b0bfa"
      },
      "execution_count": 614,
      "outputs": [
        {
          "output_type": "stream",
          "name": "stdout",
          "text": [
            "Model: \"model_8\"\n",
            "_________________________________________________________________\n",
            " Layer (type)                Output Shape              Param #   \n",
            "=================================================================\n",
            " input_12 (InputLayer)       [(None, 41)]              0         \n",
            "                                                                 \n",
            " embedding_10 (Embedding)    (None, 41, 50)            500050    \n",
            "                                                                 \n",
            " spatial_dropout1d_10 (Spati  (None, 41, 50)           0         \n",
            " alDropout1D)                                                    \n",
            "                                                                 \n",
            " bidirectional_10 (Bidirecti  (None, 41, 300)          241200    \n",
            " onal)                                                           \n",
            "                                                                 \n",
            " time_distributed_10 (TimeDi  (None, 41, 22)           6622      \n",
            " stributed)                                                      \n",
            "                                                                 \n",
            "=================================================================\n",
            "Total params: 747,872\n",
            "Trainable params: 247,822\n",
            "Non-trainable params: 500,050\n",
            "_________________________________________________________________\n"
          ]
        }
      ]
    },
    {
      "cell_type": "code",
      "source": [
        "model.compile(optimizer='adam',loss='categorical_crossentropy',metrics=['accuracy'])"
      ],
      "metadata": {
        "id": "Wj5FHcfEihSX"
      },
      "execution_count": 615,
      "outputs": []
    },
    {
      "cell_type": "code",
      "source": [
        "pip install livelossplot"
      ],
      "metadata": {
        "colab": {
          "base_uri": "https://localhost:8080/"
        },
        "id": "AQZxdkhmijBh",
        "outputId": "bb4ccc95-3531-4dba-e5b7-fd025590c506"
      },
      "execution_count": 616,
      "outputs": [
        {
          "output_type": "stream",
          "name": "stdout",
          "text": [
            "Looking in indexes: https://pypi.org/simple, https://us-python.pkg.dev/colab-wheels/public/simple/\n",
            "Requirement already satisfied: livelossplot in /usr/local/lib/python3.7/dist-packages (0.5.5)\n",
            "Requirement already satisfied: ipython==7.* in /usr/local/lib/python3.7/dist-packages (from livelossplot) (7.9.0)\n",
            "Requirement already satisfied: bokeh in /usr/local/lib/python3.7/dist-packages (from livelossplot) (2.3.3)\n",
            "Requirement already satisfied: matplotlib in /usr/local/lib/python3.7/dist-packages (from livelossplot) (3.2.2)\n",
            "Requirement already satisfied: numpy<1.22 in /usr/local/lib/python3.7/dist-packages (from livelossplot) (1.21.6)\n",
            "Requirement already satisfied: jedi>=0.10 in /usr/local/lib/python3.7/dist-packages (from ipython==7.*->livelossplot) (0.18.1)\n",
            "Requirement already satisfied: traitlets>=4.2 in /usr/local/lib/python3.7/dist-packages (from ipython==7.*->livelossplot) (5.1.1)\n",
            "Requirement already satisfied: setuptools>=18.5 in /usr/local/lib/python3.7/dist-packages (from ipython==7.*->livelossplot) (57.4.0)\n",
            "Requirement already satisfied: pickleshare in /usr/local/lib/python3.7/dist-packages (from ipython==7.*->livelossplot) (0.7.5)\n",
            "Requirement already satisfied: decorator in /usr/local/lib/python3.7/dist-packages (from ipython==7.*->livelossplot) (4.4.2)\n",
            "Requirement already satisfied: prompt-toolkit<2.1.0,>=2.0.0 in /usr/local/lib/python3.7/dist-packages (from ipython==7.*->livelossplot) (2.0.10)\n",
            "Requirement already satisfied: pygments in /usr/local/lib/python3.7/dist-packages (from ipython==7.*->livelossplot) (2.6.1)\n",
            "Requirement already satisfied: backcall in /usr/local/lib/python3.7/dist-packages (from ipython==7.*->livelossplot) (0.2.0)\n",
            "Requirement already satisfied: pexpect in /usr/local/lib/python3.7/dist-packages (from ipython==7.*->livelossplot) (4.8.0)\n",
            "Requirement already satisfied: parso<0.9.0,>=0.8.0 in /usr/local/lib/python3.7/dist-packages (from jedi>=0.10->ipython==7.*->livelossplot) (0.8.3)\n",
            "Requirement already satisfied: six>=1.9.0 in /usr/local/lib/python3.7/dist-packages (from prompt-toolkit<2.1.0,>=2.0.0->ipython==7.*->livelossplot) (1.15.0)\n",
            "Requirement already satisfied: wcwidth in /usr/local/lib/python3.7/dist-packages (from prompt-toolkit<2.1.0,>=2.0.0->ipython==7.*->livelossplot) (0.2.5)\n",
            "Requirement already satisfied: PyYAML>=3.10 in /usr/local/lib/python3.7/dist-packages (from bokeh->livelossplot) (6.0)\n",
            "Requirement already satisfied: tornado>=5.1 in /usr/local/lib/python3.7/dist-packages (from bokeh->livelossplot) (5.1.1)\n",
            "Requirement already satisfied: packaging>=16.8 in /usr/local/lib/python3.7/dist-packages (from bokeh->livelossplot) (21.3)\n",
            "Requirement already satisfied: python-dateutil>=2.1 in /usr/local/lib/python3.7/dist-packages (from bokeh->livelossplot) (2.8.2)\n",
            "Requirement already satisfied: typing-extensions>=3.7.4 in /usr/local/lib/python3.7/dist-packages (from bokeh->livelossplot) (4.1.1)\n",
            "Requirement already satisfied: pillow>=7.1.0 in /usr/local/lib/python3.7/dist-packages (from bokeh->livelossplot) (7.1.2)\n",
            "Requirement already satisfied: Jinja2>=2.9 in /usr/local/lib/python3.7/dist-packages (from bokeh->livelossplot) (2.11.3)\n",
            "Requirement already satisfied: MarkupSafe>=0.23 in /usr/local/lib/python3.7/dist-packages (from Jinja2>=2.9->bokeh->livelossplot) (2.0.1)\n",
            "Requirement already satisfied: pyparsing!=3.0.5,>=2.0.2 in /usr/local/lib/python3.7/dist-packages (from packaging>=16.8->bokeh->livelossplot) (3.0.9)\n",
            "Requirement already satisfied: cycler>=0.10 in /usr/local/lib/python3.7/dist-packages (from matplotlib->livelossplot) (0.11.0)\n",
            "Requirement already satisfied: kiwisolver>=1.0.1 in /usr/local/lib/python3.7/dist-packages (from matplotlib->livelossplot) (1.4.4)\n",
            "Requirement already satisfied: ptyprocess>=0.5 in /usr/local/lib/python3.7/dist-packages (from pexpect->ipython==7.*->livelossplot) (0.7.0)\n"
          ]
        }
      ]
    },
    {
      "cell_type": "code",
      "source": [
        "from tensorflow.keras.callbacks import ModelCheckpoint, EarlyStopping\n",
        "from livelossplot.tf_keras import PlotLossesCallback"
      ],
      "metadata": {
        "id": "VucFd40pilLh"
      },
      "execution_count": 617,
      "outputs": []
    },
    {
      "cell_type": "code",
      "source": [
        "early_stop= EarlyStopping(monitor='val_accuracy',patience=1,verbose=0,mode='max',restore_best_weights=False)\n",
        "callbacks=[PlotLossesCallback(),early_stop]\n",
        "history=model.fit(X_train,np.array(y_train), validation_data=(X_valid, np.array(y_valid)), batch_size=32, epochs=10, verbose=1, callbacks=callbacks)"
      ],
      "metadata": {
        "colab": {
          "base_uri": "https://localhost:8080/",
          "height": 706
        },
        "id": "IKsft_CminEP",
        "outputId": "caa69561-b84f-45cc-a121-73270911c8fb"
      },
      "execution_count": 618,
      "outputs": [
        {
          "output_type": "display_data",
          "data": {
            "text/plain": [
              "<Figure size 864x576 with 2 Axes>"
            ],
            "image/png": "[encoded data removed]"
          },
          "metadata": {
            "needs_background": "light"
          }
        },
        {
          "output_type": "stream",
          "name": "stdout",
          "text": [
            "accuracy\n",
            "\ttraining         \t (min:    0.876, max:    0.970, cur:    0.970)\n",
            "\tvalidation       \t (min:    0.944, max:    0.963, cur:    0.962)\n",
            "Loss\n",
            "\ttraining         \t (min:    0.175, max:    0.717, cur:    0.175)\n",
            "\tvalidation       \t (min:    0.203, max:    0.311, cur:    0.204)\n",
            "\b\b\b\b\b\b\b\b\b\b\b\b\b\b\b\b\b\b\b\b\b\b\b\b\b\b\b\b\b\b\b\b\b\b\b\b\b\b\b\b\b\b\b\b\b\b\b\b\b\b\b\b\b\b\b\b\b\b\b\b\b\b\b\b\b\b\b\b\b\b\b\b\b\b\b\b\b\b\b\b\b\b\r75/75 [==============================] - 12s 161ms/step - loss: 0.1753 - accuracy: 0.9697 - val_loss: 0.2045 - val_accuracy: 0.9623\n"
          ]
        }
      ]
    },
    {
      "cell_type": "code",
      "source": [
        "model.evaluate(X_train,np.array(y_train))"
      ],
      "metadata": {
        "colab": {
          "base_uri": "https://localhost:8080/"
        },
        "id": "AUsqAGHmjXqr",
        "outputId": "5940e39a-06f2-4a90-d12c-f52937147a60"
      },
      "execution_count": 619,
      "outputs": [
        {
          "output_type": "stream",
          "name": "stdout",
          "text": [
            "75/75 [==============================] - 2s 26ms/step - loss: 0.1700 - accuracy: 0.9685\n"
          ]
        },
        {
          "output_type": "execute_result",
          "data": {
            "text/plain": [
              "[0.16999386250972748, 0.9684780836105347]"
            ]
          },
          "metadata": {},
          "execution_count": 619
        }
      ]
    },
    {
      "cell_type": "code",
      "source": [
        "print(X_test[3])\n",
        "print(idx2word[1])\n",
        "p = model.predict(np.array([X_test[3]]))\n",
        "p = np.argmax(p, axis=-1)\n",
        "print(t_index)\n",
        "print(p)"
      ],
      "metadata": {
        "colab": {
          "base_uri": "https://localhost:8080/"
        },
        "id": "PcnLim1SjayT",
        "outputId": "a09be42a-8f1e-4007-a141-80a9e11821c0"
      },
      "execution_count": 620,
      "outputs": [
        {
          "output_type": "stream",
          "name": "stdout",
          "text": [
            "[  9. 229.  54.  64. 363. 722. 183.  76.   0.   0.   0.   0.   0.   0.\n",
            "   0.   0.   0.   0.   0.   0.   0.   0.   0.   0.   0.   0.   0.   0.\n",
            "   0.   0.   0.   0.   0.   0.   0.   0.   0.   0.   0.   0.   0.]\n",
            "__isMention__\n",
            "1/1 [==============================] - 0s 455ms/step\n",
            "{'I-company': 1, 'B-movie': 2, 'I-musicartist': 3, 'B-product': 4, 'I-sportsteam': 5, 'I-product': 6, 'B-other': 7, 'I-geo-loc': 8, 'I-other': 9, 'B-sportsteam': 10, 'B-tvshow': 11, 'B-musicartist': 12, 'B-person': 13, 'B-geo-loc': 14, 'B-facility': 15, 'I-person': 16, 'I-facility': 17, 'I-tvshow': 18, 'I-movie': 19, 'B-company': 20, 'O': 21}\n",
            "[[21 21 21 21 21 21 21  0  0  0  0  0  0  0  0  0  0  0  0  0  0  0  0  0\n",
            "   0  0  0  0  0  0  0  0  0  0  0  0  0  0  0  0  0]]\n"
          ]
        }
      ]
    }
  ],
  "metadata": {
    "colab": {
      "collapsed_sections": [],
      "provenance": [],
      "authorship_tag": "ABX9TyMeAsLzwDDMpycdAMgR2i2b",
      "include_colab_link": true
    },
    "kernelspec": {
      "display_name": "Python 3",
      "name": "python3"
    },
    "language_info": {
      "name": "python"
    }
  },
  "nbformat": 4,
  "nbformat_minor": 0
}