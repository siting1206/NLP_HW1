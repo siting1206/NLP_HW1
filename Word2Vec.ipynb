{
  "cells": [
    {
      "cell_type": "markdown",
      "metadata": {
        "id": "view-in-github",
        "colab_type": "text"
      },
      "source": [
        "<a href=\"https://colab.research.google.com/github/siting1206/NLP_HW1/blob/main/Word2Vec.ipynb\" target=\"_parent\"><img src=\"https://colab.research.google.com/assets/colab-badge.svg\" alt=\"Open In Colab\"/></a>"
      ]
    },
    {
      "cell_type": "code",
      "execution_count": 131,
      "metadata": {
        "collapsed": true,
        "id": "nYewMEKGaB4E"
      },
      "outputs": [],
      "source": [
        "%matplotlib inline\n",
        "import numpy as np\n",
        "import pandas as pd\n",
        "\n",
        "import matplotlib.pyplot as plt\n",
        "\n",
        "from collections import namedtuple\n",
        "from tensorflow.keras.preprocessing.sequence import pad_sequences\n",
        "\n",
        "import regex as re\n",
        "import os, string, sys\n",
        "\n",
        "from gensim.models.word2vec import Word2Vec"
      ]
    },
    {
      "cell_type": "code",
      "source": [
        "from google.colab import drive\n",
        "drive.mount('/content/drive')"
      ],
      "metadata": {
        "id": "n6m5nZarbp_x",
        "outputId": "90cef934-9405-456e-c009-af27b335bcab",
        "colab": {
          "base_uri": "https://localhost:8080/"
        }
      },
      "execution_count": 132,
      "outputs": [
        {
          "output_type": "stream",
          "name": "stdout",
          "text": [
            "Drive already mounted at /content/drive; to attempt to forcibly remount, call drive.mount(\"/content/drive\", force_remount=True).\n"
          ]
        }
      ]
    },
    {
      "cell_type": "markdown",
      "source": [
        "### Data Preprocessing"
      ],
      "metadata": {
        "id": "drWvT6iy_Zxu"
      }
    },
    {
      "cell_type": "code",
      "execution_count": 133,
      "metadata": {
        "collapsed": true,
        "id": "OUyDzynaaB4I"
      },
      "outputs": [],
      "source": [
        "class RegexFeatures(object):\n",
        "    PATTERNS = {\n",
        "        \"repeatedPunctuation\": re.compile(r'^[\\.\\,!\\?\"\\':;_\\-]{2,}$'),\n",
        "        \"isNumber\": re.compile(r'^((\\p{N}{,2}([,]?\\p{N}{3})+)(\\.\\p{N}+)?)$'),\n",
        "        \"isURL\": re.compile(r'^http[s]?://'),\n",
        "        \"isMention\": re.compile(r'^(RT)?@[\\p{Alnum}_]+$'),\n",
        "        \"isHashtag\": re.compile(r'^#\\p{Alnum}+$'),\n",
        "        \"isMoney\": re.compile(r'^\\$((\\p{N}{,2}([,]?\\p{N}{3})+)(\\.\\p{N}+)?)$'),\n",
        "    }\n",
        "    def __init__(self):\n",
        "        print(\"Initialized RegexFeature\")\n",
        "    def process(word):\n",
        "        features = dict()\n",
        "        for k, p in RegexFeatures.PATTERNS.iteritems():\n",
        "            if p.match(word):\n",
        "                features[k] = True\n",
        "        return features\n",
        "\n",
        "\n",
        "Tag = namedtuple(\"Tag\", [\"token\", \"tag\"])\n",
        "\n",
        "def load_sequences(filename, sep=\"\\t\", notypes=False, test_data=False):\n",
        "    sequences = []\n",
        "    with open(filename) as fp:\n",
        "        seq = []\n",
        "        for line in fp:\n",
        "            line = line.strip()\n",
        "            if line:\n",
        "                line = line.split(sep)\n",
        "                seq.append(Tag(*line))\n",
        "            else:\n",
        "                sequences.append(seq)\n",
        "                seq = []\n",
        "        if seq:\n",
        "            sequences.append(seq)\n",
        "    return sequences\n",
        "\n",
        "def load_test_sequences(filename, sep=\"\\t\"):\n",
        "    sequences = []\n",
        "    with open(filename) as fp:\n",
        "        seq = []\n",
        "        for line in fp:\n",
        "          line = line.strip()\n",
        "          if line != \".\":\n",
        "            seq.append(line)\n",
        "          else:\n",
        "            sequences.append(seq)\n",
        "            seq = []\n",
        "        if seq:\n",
        "          sequences.append(seq)\n",
        "    return sequences"
      ]
    },
    {
      "cell_type": "markdown",
      "source": [
        "### Load Dataset"
      ],
      "metadata": {
        "id": "v0pZGXTG_iNm"
      }
    },
    {
      "cell_type": "code",
      "execution_count": 134,
      "metadata": {
        "id": "rgQ-Ku-aaB4L"
      },
      "outputs": [],
      "source": [
        "train_sequences = load_sequences(\"drive/MyDrive/NLP_assignment1/data/train.txt\", sep=\"\\t\", notypes=True)\n",
        "dev_sequences = load_sequences(\"drive/MyDrive/NLP_assignment1/data/dev.txt\", sep=\"\\t\", notypes=False)\n",
        "\n",
        "test_sequences = load_test_sequences(\"drive/MyDrive/NLP_assignment1/data/test-submit.txt\")"
      ]
    },
    {
      "cell_type": "code",
      "execution_count": 135,
      "metadata": {
        "collapsed": true,
        "id": "i6Nv9TccaB4M"
      },
      "outputs": [],
      "source": [
        "train_sentences = [[t[0] for t in seq] for seq in (train_sequences)]\n",
        "train_tags = [[t[1] for t in seq] for seq in (train_sequences)]\n",
        "\n",
        "valid_sentences = [[t[0] for t in seq] for seq in (dev_sequences)]\n",
        "valid_tags = [[t[1] for t in seq] for seq in (dev_sequences)]\n",
        "\n",
        "# print(train_sentences)"
      ]
    },
    {
      "cell_type": "code",
      "source": [
        "other_entities = {\n",
        "    \"isHashtag\": [],\n",
        "    \"isMention\": [],\n",
        "    \"isURL\": [],\n",
        "    \"isMoney\": [],\n",
        "    \"isNumber\": [],\n",
        "    \"repeatedPunctuation\": []\n",
        "}\n",
        "for seq in train_sentences:\n",
        "    for t in seq:\n",
        "        for k in other_entities.keys():\n",
        "            if RegexFeatures.PATTERNS[k].match(t):\n",
        "                other_entities[k].append(t)\n",
        "for k, v in other_entities.items():\n",
        "    print(k, len(v))"
      ],
      "metadata": {
        "colab": {
          "base_uri": "https://localhost:8080/"
        },
        "id": "-eo2dvfaVj9-",
        "outputId": "af41a226-efaa-43a7-bfdf-64da7bc07ea6"
      },
      "execution_count": 136,
      "outputs": [
        {
          "output_type": "stream",
          "name": "stdout",
          "text": [
            "isHashtag 440\n",
            "isMention 1292\n",
            "isURL 448\n",
            "isMoney 5\n",
            "isNumber 120\n",
            "repeatedPunctuation 1059\n"
          ]
        }
      ]
    },
    {
      "cell_type": "code",
      "source": [
        "ENTITY_MAPPINGS={k: \"__%s__\" % k for k in other_entities.keys()}\n",
        "ENTITY_MAPPINGS"
      ],
      "metadata": {
        "colab": {
          "base_uri": "https://localhost:8080/"
        },
        "id": "Vf-tWWMmVGVv",
        "outputId": "c78410ad-b461-437f-e07c-1c05f94340d6"
      },
      "execution_count": 137,
      "outputs": [
        {
          "output_type": "execute_result",
          "data": {
            "text/plain": [
              "{'isHashtag': '__isHashtag__',\n",
              " 'isMention': '__isMention__',\n",
              " 'isURL': '__isURL__',\n",
              " 'isMoney': '__isMoney__',\n",
              " 'isNumber': '__isNumber__',\n",
              " 'repeatedPunctuation': '__repeatedPunctuation__'}"
            ]
          },
          "metadata": {},
          "execution_count": 137
        }
      ]
    },
    {
      "cell_type": "code",
      "execution_count": 138,
      "metadata": {
        "collapsed": true,
        "id": "Zm-Sln_vaB4O"
      },
      "outputs": [],
      "source": [
        "def preprocess_token(x, to_lower=False):\n",
        "    for k in ENTITY_MAPPINGS.keys():\n",
        "        if RegexFeatures.PATTERNS[k].match(x):\n",
        "            return ENTITY_MAPPINGS[k]\n",
        "    if to_lower:\n",
        "        x = x.lower()\n",
        "    return x"
      ]
    },
    {
      "cell_type": "markdown",
      "source": [
        "#### For the input of LSTM model all the sentences must be padded to same length,for that we must know the maximum length of the sequence in the list of sentences."
      ],
      "metadata": {
        "id": "MSYkXqJPyUbg"
      }
    },
    {
      "cell_type": "code",
      "source": [
        "train_pre_seq = [[preprocess_token(t[0], to_lower=False) for t in seq] for seq in train_sequences]\n",
        "test_pre_seq = [[preprocess_token(t, to_lower=False) for t in seq] for seq in test_sequences]\n",
        "# print(train_pre_seq)"
      ],
      "metadata": {
        "id": "9e82vQ0lz7QI"
      },
      "execution_count": 139,
      "outputs": []
    },
    {
      "cell_type": "code",
      "source": [
        "word2vec_sentences = [preprocess_token(t[0], to_lower=False) for seq in train_sequences for t in seq]\n",
        "tag2vec_sentences = [t[1] for seq in train_sequences for t in seq]\n",
        "words=list(set(word2vec_sentences))\n",
        "# print(word2vec_sentences)\n",
        "tags=list(set(tag2vec_sentences))\n",
        "# print(tags)\n",
        "w_index={t:j for j,t in enumerate(words)}\n",
        "t_index={t:j for j,t in enumerate(tags)}\n",
        "n_words = len(w_index)\n",
        "n_tags = len(t_index)\n",
        "y_train = [[t_index[w[1]] for w in s] for s in train_sequences]\n",
        "print(len(y_train))"
      ],
      "metadata": {
        "id": "RbSFcBOeHwYk",
        "colab": {
          "base_uri": "https://localhost:8080/"
        },
        "outputId": "5b094016-dfdc-4105-9275-5ae918ad4745"
      },
      "execution_count": 168,
      "outputs": [
        {
          "output_type": "stream",
          "name": "stdout",
          "text": [
            "2394\n"
          ]
        }
      ]
    },
    {
      "cell_type": "code",
      "execution_count": 141,
      "metadata": {
        "collapsed": true,
        "id": "T4QtqogMaB4O",
        "colab": {
          "base_uri": "https://localhost:8080/"
        },
        "outputId": "5a0f4c52-08c1-492d-b8da-2230f806b8ac"
      },
      "outputs": [
        {
          "output_type": "stream",
          "name": "stdout",
          "text": [
            "Maximum sequence length in the list of sentences: 36\n"
          ]
        }
      ],
      "source": [
        "maxl = max([len(s) for s in word2vec_sentences])\n",
        "\n",
        "print ('Maximum sequence length in the list of sentences:', maxl)"
      ]
    },
    {
      "cell_type": "code",
      "execution_count": 142,
      "metadata": {
        "id": "etsMMY-9aB4P",
        "outputId": "00e2c39e-0fb3-4222-de11-f284d855072b",
        "colab": {
          "base_uri": "https://localhost:8080/",
          "height": 35
        }
      },
      "outputs": [
        {
          "output_type": "execute_result",
          "data": {
            "text/plain": [
              "'__isMention__'"
            ],
            "application/vnd.google.colaboratory.intrinsic+json": {
              "type": "string"
            }
          },
          "metadata": {},
          "execution_count": 142
        }
      ],
      "source": [
        "word2vec_sentences[0]"
      ]
    },
    {
      "cell_type": "code",
      "execution_count": 143,
      "metadata": {
        "id": "XusiZhG6aB4Q",
        "outputId": "a3031556-1738-4662-c7e0-215d655de5e0",
        "colab": {
          "base_uri": "https://localhost:8080/",
          "height": 35
        }
      },
      "outputs": [
        {
          "output_type": "execute_result",
          "data": {
            "text/plain": [
              "'__isMention__'"
            ],
            "application/vnd.google.colaboratory.intrinsic+json": {
              "type": "string"
            }
          },
          "metadata": {},
          "execution_count": 143
        }
      ],
      "source": [
        "preprocess_token(\"@guild_gamer\")"
      ]
    },
    {
      "cell_type": "markdown",
      "source": [
        "### Word2Vec Model"
      ],
      "metadata": {
        "id": "XwgGF1Fh_qni"
      }
    },
    {
      "cell_type": "code",
      "execution_count": 144,
      "metadata": {
        "id": "QeeN9Tj9aB4Q",
        "outputId": "a148183d-fe56-431a-93ae-4b04da496fcc",
        "colab": {
          "base_uri": "https://localhost:8080/"
        }
      },
      "outputs": [
        {
          "output_type": "stream",
          "name": "stderr",
          "text": [
            "WARNING:gensim.models.base_any2vec:consider setting layer size to a multiple of 4 for greater performance\n"
          ]
        },
        {
          "output_type": "stream",
          "name": "stdout",
          "text": [
            "Word2Vec(vocab=8534, size=50, alpha=0.025)\n"
          ]
        }
      ],
      "source": [
        "word2vec = Word2Vec(train_pre_seq, size=50, window=10, sg=1, hs=0, min_count=1, negative=5, workers=1, iter=5)\n",
        "print(word2vec)"
      ]
    },
    {
      "cell_type": "code",
      "source": [
        "def word_to_vec(word):\n",
        "  try:\n",
        "    wordvec = word2vec[word]\n",
        "  except KeyError as e:\n",
        "    print(word, \"不存在\")\n",
        "    wordvec = np.array([0], * 100)\n",
        "  return wordvec\n",
        "\n",
        "X_train = [[[word_to_vec(s[0])] for w in s ]for s in train_pre_seq]\n",
        "# X_test = [word_to_vec(s[0]) for s in test_pre_seq]\n",
        "print(X_train[0])\n",
        "print(y_train[0])\n",
        "print(len(X_train), len(y_train))"
      ],
      "metadata": {
        "id": "P-C9WmxRWWW2",
        "colab": {
          "base_uri": "https://localhost:8080/"
        },
        "outputId": "e0b04bd9-be2f-4f51-be54-e50ddc54a5d0"
      },
      "execution_count": 160,
      "outputs": [
        {
          "output_type": "stream",
          "name": "stdout",
          "text": [
            "[[array([ 0.17256497, -0.01356004, -0.20986395, -0.3915097 ,  0.10973134,\n",
            "        0.07411791,  0.35816133,  0.1925026 , -0.17100565,  0.16221847,\n",
            "       -0.39599484,  0.04705683, -0.5039497 , -0.45943686, -0.38074505,\n",
            "        0.6735749 ,  0.39461654,  0.6154905 ,  0.04485179,  0.00664062,\n",
            "        0.45993373, -0.09809875,  0.03269076, -0.06051165, -0.3336815 ,\n",
            "        0.2445974 , -0.117051  ,  0.5611056 ,  0.30321714, -0.26661155,\n",
            "        0.25937155, -0.37882864,  0.03031269, -0.09324232, -0.5739206 ,\n",
            "       -0.38635823,  0.17158705,  0.35059738,  0.25462598,  0.21613239,\n",
            "        0.44169885,  0.28321284, -0.48630974, -0.11703314, -0.33003965,\n",
            "       -0.36479118, -0.35736316, -0.29280388,  0.4521079 ,  0.2238732 ],\n",
            "      dtype=float32)], [array([ 0.17256497, -0.01356004, -0.20986395, -0.3915097 ,  0.10973134,\n",
            "        0.07411791,  0.35816133,  0.1925026 , -0.17100565,  0.16221847,\n",
            "       -0.39599484,  0.04705683, -0.5039497 , -0.45943686, -0.38074505,\n",
            "        0.6735749 ,  0.39461654,  0.6154905 ,  0.04485179,  0.00664062,\n",
            "        0.45993373, -0.09809875,  0.03269076, -0.06051165, -0.3336815 ,\n",
            "        0.2445974 , -0.117051  ,  0.5611056 ,  0.30321714, -0.26661155,\n",
            "        0.25937155, -0.37882864,  0.03031269, -0.09324232, -0.5739206 ,\n",
            "       -0.38635823,  0.17158705,  0.35059738,  0.25462598,  0.21613239,\n",
            "        0.44169885,  0.28321284, -0.48630974, -0.11703314, -0.33003965,\n",
            "       -0.36479118, -0.35736316, -0.29280388,  0.4521079 ,  0.2238732 ],\n",
            "      dtype=float32)], [array([ 0.17256497, -0.01356004, -0.20986395, -0.3915097 ,  0.10973134,\n",
            "        0.07411791,  0.35816133,  0.1925026 , -0.17100565,  0.16221847,\n",
            "       -0.39599484,  0.04705683, -0.5039497 , -0.45943686, -0.38074505,\n",
            "        0.6735749 ,  0.39461654,  0.6154905 ,  0.04485179,  0.00664062,\n",
            "        0.45993373, -0.09809875,  0.03269076, -0.06051165, -0.3336815 ,\n",
            "        0.2445974 , -0.117051  ,  0.5611056 ,  0.30321714, -0.26661155,\n",
            "        0.25937155, -0.37882864,  0.03031269, -0.09324232, -0.5739206 ,\n",
            "       -0.38635823,  0.17158705,  0.35059738,  0.25462598,  0.21613239,\n",
            "        0.44169885,  0.28321284, -0.48630974, -0.11703314, -0.33003965,\n",
            "       -0.36479118, -0.35736316, -0.29280388,  0.4521079 ,  0.2238732 ],\n",
            "      dtype=float32)], [array([ 0.17256497, -0.01356004, -0.20986395, -0.3915097 ,  0.10973134,\n",
            "        0.07411791,  0.35816133,  0.1925026 , -0.17100565,  0.16221847,\n",
            "       -0.39599484,  0.04705683, -0.5039497 , -0.45943686, -0.38074505,\n",
            "        0.6735749 ,  0.39461654,  0.6154905 ,  0.04485179,  0.00664062,\n",
            "        0.45993373, -0.09809875,  0.03269076, -0.06051165, -0.3336815 ,\n",
            "        0.2445974 , -0.117051  ,  0.5611056 ,  0.30321714, -0.26661155,\n",
            "        0.25937155, -0.37882864,  0.03031269, -0.09324232, -0.5739206 ,\n",
            "       -0.38635823,  0.17158705,  0.35059738,  0.25462598,  0.21613239,\n",
            "        0.44169885,  0.28321284, -0.48630974, -0.11703314, -0.33003965,\n",
            "       -0.36479118, -0.35736316, -0.29280388,  0.4521079 ,  0.2238732 ],\n",
            "      dtype=float32)], [array([ 0.17256497, -0.01356004, -0.20986395, -0.3915097 ,  0.10973134,\n",
            "        0.07411791,  0.35816133,  0.1925026 , -0.17100565,  0.16221847,\n",
            "       -0.39599484,  0.04705683, -0.5039497 , -0.45943686, -0.38074505,\n",
            "        0.6735749 ,  0.39461654,  0.6154905 ,  0.04485179,  0.00664062,\n",
            "        0.45993373, -0.09809875,  0.03269076, -0.06051165, -0.3336815 ,\n",
            "        0.2445974 , -0.117051  ,  0.5611056 ,  0.30321714, -0.26661155,\n",
            "        0.25937155, -0.37882864,  0.03031269, -0.09324232, -0.5739206 ,\n",
            "       -0.38635823,  0.17158705,  0.35059738,  0.25462598,  0.21613239,\n",
            "        0.44169885,  0.28321284, -0.48630974, -0.11703314, -0.33003965,\n",
            "       -0.36479118, -0.35736316, -0.29280388,  0.4521079 ,  0.2238732 ],\n",
            "      dtype=float32)], [array([ 0.17256497, -0.01356004, -0.20986395, -0.3915097 ,  0.10973134,\n",
            "        0.07411791,  0.35816133,  0.1925026 , -0.17100565,  0.16221847,\n",
            "       -0.39599484,  0.04705683, -0.5039497 , -0.45943686, -0.38074505,\n",
            "        0.6735749 ,  0.39461654,  0.6154905 ,  0.04485179,  0.00664062,\n",
            "        0.45993373, -0.09809875,  0.03269076, -0.06051165, -0.3336815 ,\n",
            "        0.2445974 , -0.117051  ,  0.5611056 ,  0.30321714, -0.26661155,\n",
            "        0.25937155, -0.37882864,  0.03031269, -0.09324232, -0.5739206 ,\n",
            "       -0.38635823,  0.17158705,  0.35059738,  0.25462598,  0.21613239,\n",
            "        0.44169885,  0.28321284, -0.48630974, -0.11703314, -0.33003965,\n",
            "       -0.36479118, -0.35736316, -0.29280388,  0.4521079 ,  0.2238732 ],\n",
            "      dtype=float32)], [array([ 0.17256497, -0.01356004, -0.20986395, -0.3915097 ,  0.10973134,\n",
            "        0.07411791,  0.35816133,  0.1925026 , -0.17100565,  0.16221847,\n",
            "       -0.39599484,  0.04705683, -0.5039497 , -0.45943686, -0.38074505,\n",
            "        0.6735749 ,  0.39461654,  0.6154905 ,  0.04485179,  0.00664062,\n",
            "        0.45993373, -0.09809875,  0.03269076, -0.06051165, -0.3336815 ,\n",
            "        0.2445974 , -0.117051  ,  0.5611056 ,  0.30321714, -0.26661155,\n",
            "        0.25937155, -0.37882864,  0.03031269, -0.09324232, -0.5739206 ,\n",
            "       -0.38635823,  0.17158705,  0.35059738,  0.25462598,  0.21613239,\n",
            "        0.44169885,  0.28321284, -0.48630974, -0.11703314, -0.33003965,\n",
            "       -0.36479118, -0.35736316, -0.29280388,  0.4521079 ,  0.2238732 ],\n",
            "      dtype=float32)], [array([ 0.17256497, -0.01356004, -0.20986395, -0.3915097 ,  0.10973134,\n",
            "        0.07411791,  0.35816133,  0.1925026 , -0.17100565,  0.16221847,\n",
            "       -0.39599484,  0.04705683, -0.5039497 , -0.45943686, -0.38074505,\n",
            "        0.6735749 ,  0.39461654,  0.6154905 ,  0.04485179,  0.00664062,\n",
            "        0.45993373, -0.09809875,  0.03269076, -0.06051165, -0.3336815 ,\n",
            "        0.2445974 , -0.117051  ,  0.5611056 ,  0.30321714, -0.26661155,\n",
            "        0.25937155, -0.37882864,  0.03031269, -0.09324232, -0.5739206 ,\n",
            "       -0.38635823,  0.17158705,  0.35059738,  0.25462598,  0.21613239,\n",
            "        0.44169885,  0.28321284, -0.48630974, -0.11703314, -0.33003965,\n",
            "       -0.36479118, -0.35736316, -0.29280388,  0.4521079 ,  0.2238732 ],\n",
            "      dtype=float32)], [array([ 0.17256497, -0.01356004, -0.20986395, -0.3915097 ,  0.10973134,\n",
            "        0.07411791,  0.35816133,  0.1925026 , -0.17100565,  0.16221847,\n",
            "       -0.39599484,  0.04705683, -0.5039497 , -0.45943686, -0.38074505,\n",
            "        0.6735749 ,  0.39461654,  0.6154905 ,  0.04485179,  0.00664062,\n",
            "        0.45993373, -0.09809875,  0.03269076, -0.06051165, -0.3336815 ,\n",
            "        0.2445974 , -0.117051  ,  0.5611056 ,  0.30321714, -0.26661155,\n",
            "        0.25937155, -0.37882864,  0.03031269, -0.09324232, -0.5739206 ,\n",
            "       -0.38635823,  0.17158705,  0.35059738,  0.25462598,  0.21613239,\n",
            "        0.44169885,  0.28321284, -0.48630974, -0.11703314, -0.33003965,\n",
            "       -0.36479118, -0.35736316, -0.29280388,  0.4521079 ,  0.2238732 ],\n",
            "      dtype=float32)], [array([ 0.17256497, -0.01356004, -0.20986395, -0.3915097 ,  0.10973134,\n",
            "        0.07411791,  0.35816133,  0.1925026 , -0.17100565,  0.16221847,\n",
            "       -0.39599484,  0.04705683, -0.5039497 , -0.45943686, -0.38074505,\n",
            "        0.6735749 ,  0.39461654,  0.6154905 ,  0.04485179,  0.00664062,\n",
            "        0.45993373, -0.09809875,  0.03269076, -0.06051165, -0.3336815 ,\n",
            "        0.2445974 , -0.117051  ,  0.5611056 ,  0.30321714, -0.26661155,\n",
            "        0.25937155, -0.37882864,  0.03031269, -0.09324232, -0.5739206 ,\n",
            "       -0.38635823,  0.17158705,  0.35059738,  0.25462598,  0.21613239,\n",
            "        0.44169885,  0.28321284, -0.48630974, -0.11703314, -0.33003965,\n",
            "       -0.36479118, -0.35736316, -0.29280388,  0.4521079 ,  0.2238732 ],\n",
            "      dtype=float32)], [array([ 0.17256497, -0.01356004, -0.20986395, -0.3915097 ,  0.10973134,\n",
            "        0.07411791,  0.35816133,  0.1925026 , -0.17100565,  0.16221847,\n",
            "       -0.39599484,  0.04705683, -0.5039497 , -0.45943686, -0.38074505,\n",
            "        0.6735749 ,  0.39461654,  0.6154905 ,  0.04485179,  0.00664062,\n",
            "        0.45993373, -0.09809875,  0.03269076, -0.06051165, -0.3336815 ,\n",
            "        0.2445974 , -0.117051  ,  0.5611056 ,  0.30321714, -0.26661155,\n",
            "        0.25937155, -0.37882864,  0.03031269, -0.09324232, -0.5739206 ,\n",
            "       -0.38635823,  0.17158705,  0.35059738,  0.25462598,  0.21613239,\n",
            "        0.44169885,  0.28321284, -0.48630974, -0.11703314, -0.33003965,\n",
            "       -0.36479118, -0.35736316, -0.29280388,  0.4521079 ,  0.2238732 ],\n",
            "      dtype=float32)], [array([ 0.17256497, -0.01356004, -0.20986395, -0.3915097 ,  0.10973134,\n",
            "        0.07411791,  0.35816133,  0.1925026 , -0.17100565,  0.16221847,\n",
            "       -0.39599484,  0.04705683, -0.5039497 , -0.45943686, -0.38074505,\n",
            "        0.6735749 ,  0.39461654,  0.6154905 ,  0.04485179,  0.00664062,\n",
            "        0.45993373, -0.09809875,  0.03269076, -0.06051165, -0.3336815 ,\n",
            "        0.2445974 , -0.117051  ,  0.5611056 ,  0.30321714, -0.26661155,\n",
            "        0.25937155, -0.37882864,  0.03031269, -0.09324232, -0.5739206 ,\n",
            "       -0.38635823,  0.17158705,  0.35059738,  0.25462598,  0.21613239,\n",
            "        0.44169885,  0.28321284, -0.48630974, -0.11703314, -0.33003965,\n",
            "       -0.36479118, -0.35736316, -0.29280388,  0.4521079 ,  0.2238732 ],\n",
            "      dtype=float32)]]\n",
            "[13 13 13 13 13 13 13 13 13 13 13 13  0  0  0  0  0  0  0  0  0  0  0  0\n",
            "  0  0  0  0  0  0  0  0  0  0  0  0]\n",
            "2394 2394\n"
          ]
        },
        {
          "output_type": "stream",
          "name": "stderr",
          "text": [
            "/usr/local/lib/python3.7/dist-packages/ipykernel_launcher.py:3: DeprecationWarning: Call to deprecated `__getitem__` (Method will be removed in 4.0.0, use self.wv.__getitem__() instead).\n",
            "  This is separate from the ipykernel package so we can avoid doing imports until\n"
          ]
        }
      ]
    },
    {
      "cell_type": "code",
      "source": [
        "print(f\"總共收錄了 {len(word2vec.wv.vocab)} 個詞彙\")\n",
        "print(\"印出 20 個收錄詞彙:\")\n",
        "print(list(word2vec.wv.vocab.keys())[:20])"
      ],
      "metadata": {
        "colab": {
          "base_uri": "https://localhost:8080/"
        },
        "id": "kk9hRjzsiwsR",
        "outputId": "2c55681e-db14-485d-cb4f-8bc0019b9b22"
      },
      "execution_count": 146,
      "outputs": [
        {
          "output_type": "stream",
          "name": "stdout",
          "text": [
            "總共收錄了 8534 個詞彙\n",
            "印出 20 個收錄詞彙:\n",
            "['__isMention__', 'they', 'will', 'be', 'all', 'done', 'by', 'Sunday', 'trust', 'me', '*wink*', 'Made', 'it', 'back', 'home', 'to', 'GA', '.', 'It', 'sucks']\n"
          ]
        }
      ]
    },
    {
      "cell_type": "code",
      "source": [
        "word2vec.wv.most_similar(\"Sunday\")"
      ],
      "metadata": {
        "colab": {
          "base_uri": "https://localhost:8080/"
        },
        "id": "3HSMsAMWjlqD",
        "outputId": "760c4765-1315-4ad8-ccaa-c2e8c947e15c"
      },
      "execution_count": 147,
      "outputs": [
        {
          "output_type": "execute_result",
          "data": {
            "text/plain": [
              "[('please', 0.9987372756004333),\n",
              " ('more', 0.9983861446380615),\n",
              " ('new', 0.99811851978302),\n",
              " ('later', 0.998092532157898),\n",
              " ('weekend', 0.9980342984199524),\n",
              " ('done', 0.99791020154953),\n",
              " ('our', 0.9977797865867615),\n",
              " ('awesome', 0.9976701736450195),\n",
              " ('meet', 0.9975164532661438),\n",
              " ('start', 0.9973775148391724)]"
            ]
          },
          "metadata": {},
          "execution_count": 147
        }
      ]
    },
    {
      "cell_type": "code",
      "source": [
        "from tensorflow.keras.preprocessing.sequence import pad_sequences\n",
        "from tensorflow.keras.utils import to_categorical"
      ],
      "metadata": {
        "id": "jqx_c2RV-8cS"
      },
      "execution_count": 148,
      "outputs": []
    },
    {
      "cell_type": "code",
      "source": [
        "X_train = pad_sequences(maxlen=maxl, padding='post', sequences=X_train, dtype='float32')\n",
        "y_train = pad_sequences(maxlen=maxl, padding='post', sequences=y_train)\n",
        "print(\"X_train:\\n\\n\", X_train[0])\n",
        "print(\"\\n\\n\\n\")\n",
        "print(\"y_train:\\n\\n\", y_train[0])"
      ],
      "metadata": {
        "colab": {
          "base_uri": "https://localhost:8080/"
        },
        "id": "HGByFbLt-82c",
        "outputId": "4da5b116-c8d9-4c18-f6d5-14f41d6b5975"
      },
      "execution_count": 167,
      "outputs": [
        {
          "output_type": "stream",
          "name": "stdout",
          "text": [
            "X_train:\n",
            "\n",
            " [[[ 0.17256497 -0.01356004 -0.20986395 ... -0.29280388  0.4521079\n",
            "    0.2238732 ]]\n",
            "\n",
            " [[ 0.17256497 -0.01356004 -0.20986395 ... -0.29280388  0.4521079\n",
            "    0.2238732 ]]\n",
            "\n",
            " [[ 0.17256497 -0.01356004 -0.20986395 ... -0.29280388  0.4521079\n",
            "    0.2238732 ]]\n",
            "\n",
            " ...\n",
            "\n",
            " [[ 0.          0.          0.         ...  0.          0.\n",
            "    0.        ]]\n",
            "\n",
            " [[ 0.          0.          0.         ...  0.          0.\n",
            "    0.        ]]\n",
            "\n",
            " [[ 0.          0.          0.         ...  0.          0.\n",
            "    0.        ]]]\n",
            "\n",
            "\n",
            "\n",
            "\n",
            "y_train:\n",
            "\n",
            " [13 13 13 13 13 13 13 13 13 13 13 13  0  0  0  0  0  0  0  0  0  0  0  0\n",
            "  0  0  0  0  0  0  0  0  0  0  0  0]\n"
          ]
        }
      ]
    }
  ],
  "metadata": {
    "kernelspec": {
      "display_name": "Python [default]",
      "language": "python",
      "name": "python2"
    },
    "language_info": {
      "codemirror_mode": {
        "name": "ipython",
        "version": 2
      },
      "file_extension": ".py",
      "mimetype": "text/x-python",
      "name": "python",
      "nbconvert_exporter": "python",
      "pygments_lexer": "ipython2",
      "version": "2.7.12"
    },
    "colab": {
      "provenance": [],
      "collapsed_sections": [],
      "include_colab_link": true
    }
  },
  "nbformat": 4,
  "nbformat_minor": 0
}