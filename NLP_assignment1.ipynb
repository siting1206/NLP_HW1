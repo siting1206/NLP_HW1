{
  "nbformat": 4,
  "nbformat_minor": 0,
  "metadata": {
    "colab": {
      "provenance": [],
      "collapsed_sections": [],
      "authorship_tag": "ABX9TyNTq1wbOXb8RY9n1YTJ9VGQ",
      "include_colab_link": true
    },
    "kernelspec": {
      "name": "python3",
      "display_name": "Python 3"
    },
    "language_info": {
      "name": "python"
    }
  },
  "cells": [
    {
      "cell_type": "markdown",
      "metadata": {
        "id": "view-in-github",
        "colab_type": "text"
      },
      "source": [
        "<a href=\"https://colab.research.google.com/github/siting1206/NLP_HW1/blob/main/NLP_assignment1.ipynb\" target=\"_parent\"><img src=\"https://colab.research.google.com/assets/colab-badge.svg\" alt=\"Open In Colab\"/></a>"
      ]
    },
    {
      "cell_type": "markdown",
      "source": [
        "### Download pre-trained model and required resources\n",
        "glove-twitter-100"
      ],
      "metadata": {
        "id": "tH7Qg_NHD5ev"
      }
    },
    {
      "cell_type": "code",
      "execution_count": 1,
      "metadata": {
        "id": "N930JcLrNRFJ"
      },
      "outputs": [],
      "source": [
        "import gensim.downloader as api\n",
        "wv = api.load('glove-twitter-100')"
      ]
    },
    {
      "cell_type": "code",
      "source": [
        "print(f\"總共收錄了 {len(wv.vocab)} 個詞彙\")\n",
        "# print(\"印出前20個收錄的詞彙:\")\n",
        "# print(list(wv.vocab.keys())[:20])\n",
        "# wv.most_similar(\"fgcu\")"
      ],
      "metadata": {
        "colab": {
          "base_uri": "https://localhost:8080/"
        },
        "id": "iJ81A5-TGliR",
        "outputId": "5ff898a1-2730-47b6-891d-ef6984316dd1"
      },
      "execution_count": 32,
      "outputs": [
        {
          "output_type": "stream",
          "name": "stdout",
          "text": [
            "總共收錄了 1193514 個詞彙\n"
          ]
        }
      ]
    },
    {
      "cell_type": "markdown",
      "source": [
        "Load in the required resources"
      ],
      "metadata": {
        "id": "0_zPpAMkGOyI"
      }
    },
    {
      "cell_type": "code",
      "source": [
        "import numpy as np\n",
        "import pandas as pd\n",
        "import random, os\n",
        "import regex as re\n",
        "import collections\n",
        "from collections import namedtuple\n",
        "\n",
        "from tensorflow.keras.preprocessing.sequence import pad_sequences"
      ],
      "metadata": {
        "id": "6cGz6WRTR1oF"
      },
      "execution_count": 3,
      "outputs": []
    },
    {
      "cell_type": "code",
      "source": [
        "from google.colab import drive\n",
        "drive.mount('/content/drive')"
      ],
      "metadata": {
        "colab": {
          "base_uri": "https://localhost:8080/"
        },
        "id": "5tDjUKXvSGzT",
        "outputId": "e83252b2-904e-41a8-ed5a-0d3c0c733300"
      },
      "execution_count": 4,
      "outputs": [
        {
          "output_type": "stream",
          "name": "stdout",
          "text": [
            "Drive already mounted at /content/drive; to attempt to forcibly remount, call drive.mount(\"/content/drive\", force_remount=True).\n"
          ]
        }
      ]
    },
    {
      "cell_type": "markdown",
      "source": [
        "### Data Processing definition\n",
        "@tg10781 -> isMention<br>\n",
        "http://bit.ly/dbDMs8 -> isURL<br>\n",
        "17 -> isNumber......<br>\n",
        "\n"
      ],
      "metadata": {
        "id": "aTy13r7nKeFa"
      }
    },
    {
      "cell_type": "code",
      "source": [
        "class RegexFeatures(object):\n",
        "    PATTERNS = {\n",
        "        \"repeatedPunctuation\": re.compile(r'^[\\.\\,!\\?\"\\':;_\\-]{2,}$'),\n",
        "        \"isNumber\": re.compile(r'^((\\p{N}{,2}([,]?\\p{N}{3})+)(\\.\\p{N}+)?)$'),\n",
        "        \"isURL\": re.compile(r'^http[s]?://'),\n",
        "        \"isMention\": re.compile(r'^(RT)?@[\\p{Alnum}_]+$'),\n",
        "        \"isHashtag\": re.compile(r'^#\\p{Alnum}+$'),\n",
        "        \"isMoney\": re.compile(r'^\\$((\\p{N}{,2}([,]?\\p{N}{3})+)(\\.\\p{N}+)?)$'),\n",
        "    }\n",
        "    def __init__(self):\n",
        "        print(\"Initialized RegexFeature\")\n",
        "    def process(word):\n",
        "        features = dict()\n",
        "        for k, p in RegexFeatures.PATTERNS.iteritems():\n",
        "            if p.match(word):\n",
        "                features[k] = True\n",
        "        return features\n",
        "\n",
        "Tag = namedtuple(\"Tag\", [\"token\", \"tag\"])\n",
        "\n",
        "# Load train/validation dataset definition\n",
        "def load_sequences(filename, sep=\"\\t\", notypes=False, test_data=False):\n",
        "    sequences = []\n",
        "    with open(filename) as fp:\n",
        "        seq = []\n",
        "        for line in fp:\n",
        "            line = line.strip()\n",
        "            if line:\n",
        "                line = line.split(sep)\n",
        "                seq.append(Tag(*line))\n",
        "            else:\n",
        "                sequences.append(seq)\n",
        "                seq = []\n",
        "        if seq:\n",
        "            sequences.append(seq)\n",
        "    return sequences\n",
        "# Load test dataset definition\n",
        "def load_test_sequences(filename, sep=\"\\t\"):\n",
        "    sequences = []\n",
        "    with open(filename) as fp:\n",
        "        seq = []\n",
        "        for line in fp:\n",
        "          line = line.strip()\n",
        "          if line:\n",
        "            seq.append(line)\n",
        "          else:\n",
        "            sequences.append(seq)\n",
        "            seq = []\n",
        "        if seq:\n",
        "          sequences.append(seq)\n",
        "    return sequences"
      ],
      "metadata": {
        "id": "ilGnp7KYSPT_"
      },
      "execution_count": 5,
      "outputs": []
    },
    {
      "cell_type": "markdown",
      "source": [
        "### Load the dataset"
      ],
      "metadata": {
        "id": "FmCTBCTJMPzP"
      }
    },
    {
      "cell_type": "code",
      "source": [
        "train_sequences = load_sequences(\"drive/MyDrive/NLP_assignment1/data/train.txt\", sep=\"\\t\", notypes=True)\n",
        "dev_sequences = load_sequences(\"drive/MyDrive/NLP_assignment1/data/dev.txt\", sep=\"\\t\", notypes=False)\n",
        "test_sequences = load_test_sequences(\"drive/MyDrive/NLP_assignment1/data/test-submit.txt\", sep=\"\\t\")"
      ],
      "metadata": {
        "id": "KJ18hc63SQsg"
      },
      "execution_count": 6,
      "outputs": []
    },
    {
      "cell_type": "code",
      "source": [
        "train_sentences = [[t[0] for t in seq] for seq in (train_sequences)]\n",
        "train_tags = [[t[1] for t in seq] for seq in (train_sequences)]\n",
        "\n",
        "valid_sentences = [[t[0] for t in seq] for seq in (dev_sequences)]\n",
        "valid_tags = [[t[1] for t in seq] for seq in (dev_sequences)]\n",
        "\n",
        "test_sentences = [[t for t in seq] for seq in (test_sequences)]"
      ],
      "metadata": {
        "id": "fQSU5xiRSV-5"
      },
      "execution_count": 7,
      "outputs": []
    },
    {
      "cell_type": "code",
      "source": [
        "other_entities = {\n",
        "    \"isHashtag\": [],\n",
        "    \"isMention\": [],\n",
        "    \"isURL\": [],\n",
        "    \"isMoney\": [],\n",
        "    \"isNumber\": [],\n",
        "    \"repeatedPunctuation\": []\n",
        "}\n",
        "for seq in train_sentences:\n",
        "    for t in seq:\n",
        "        for k in other_entities.keys():\n",
        "            if RegexFeatures.PATTERNS[k].match(t):\n",
        "                other_entities[k].append(t)\n",
        "# for k, v in other_entities.items():\n",
        "#     print(k, len(v))"
      ],
      "metadata": {
        "id": "Z0o_fSCSSXx1"
      },
      "execution_count": 8,
      "outputs": []
    },
    {
      "cell_type": "code",
      "source": [
        "ENTITY_MAPPINGS={k: \"__%s__\" % k for k in other_entities.keys()}"
      ],
      "metadata": {
        "id": "MOsy64xqSaKt"
      },
      "execution_count": 9,
      "outputs": []
    },
    {
      "cell_type": "markdown",
      "source": [
        "### Preprocessing the token"
      ],
      "metadata": {
        "id": "TJYKP-ZSMilR"
      }
    },
    {
      "cell_type": "code",
      "source": [
        "def preprocess_token(x, to_lower=False):\n",
        "    for k in ENTITY_MAPPINGS.keys():\n",
        "        if RegexFeatures.PATTERNS[k].match(x):\n",
        "            return ENTITY_MAPPINGS[k]\n",
        "    if to_lower:\n",
        "        x = x.lower()\n",
        "    return x"
      ],
      "metadata": {
        "id": "tPfauLMMSbhS"
      },
      "execution_count": 10,
      "outputs": []
    },
    {
      "cell_type": "code",
      "source": [
        "# The words in the pretrained model glove-twitter-100 are all lower case\n",
        "train_pre_seq = [[preprocess_token(t[0], to_lower=True) for t in seq] for seq in train_sequences]\n",
        "dev_pre_seq = [[preprocess_token(t[0], to_lower=True) for t in seq] for seq in dev_sequences]\n",
        "test_pre_seq = [[preprocess_token(t, to_lower=True) for t in seq] for seq in test_sequences]"
      ],
      "metadata": {
        "id": "T5FESyQ6SdS8"
      },
      "execution_count": 11,
      "outputs": []
    },
    {
      "cell_type": "markdown",
      "source": [
        "### Splitted each sentences as a list of tuples of the words and tags.\n",
        "By mapping word to index in the sequences to get y_train and y_valid"
      ],
      "metadata": {
        "id": "t-rLRqTON6VT"
      }
    },
    {
      "cell_type": "code",
      "source": [
        "word2vec_sentences = [preprocess_token(t[0], to_lower=False) for seq in train_sequences for t in seq]\n",
        "tag2vec_sentences = [t[1] for seq in train_sequences for t in seq]\n",
        "words=list(set(word2vec_sentences))\n",
        "# print(word2vec_sentences)\n",
        "tags=list(set(tag2vec_sentences))\n",
        "# print(tags)\n",
        "w_index={t:j for j,t in enumerate(words)}\n",
        "t_index={t:j+1 for j,t in enumerate(tags)}\n",
        "t_word={t+1:j for t,j in enumerate(tags)}\n",
        "print(t_index)\n",
        "n_words = len(w_index)\n",
        "n_tags = len(t_index)\n",
        "y_train = [[t_index[w[1]] for w in s] for s in train_sequences]\n",
        "y_valid = [[t_index[w[1]] for w in s] for s in dev_sequences]"
      ],
      "metadata": {
        "colab": {
          "base_uri": "https://localhost:8080/"
        },
        "id": "TsO0KgZhS03g",
        "outputId": "7d17c7e0-fbd6-4185-8e0c-1c850e2e7c6e"
      },
      "execution_count": 12,
      "outputs": [
        {
          "output_type": "stream",
          "name": "stdout",
          "text": [
            "{'I-tvshow': 1, 'I-geo-loc': 2, 'I-movie': 3, 'B-facility': 4, 'B-person': 5, 'O': 6, 'I-sportsteam': 7, 'I-other': 8, 'B-product': 9, 'B-movie': 10, 'I-person': 11, 'I-facility': 12, 'B-company': 13, 'B-sportsteam': 14, 'I-company': 15, 'I-product': 16, 'I-musicartist': 17, 'B-geo-loc': 18, 'B-tvshow': 19, 'B-musicartist': 20, 'B-other': 21}\n"
          ]
        }
      ]
    },
    {
      "cell_type": "markdown",
      "source": [
        "Compute the max length to decide the array size"
      ],
      "metadata": {
        "id": "nYDhnMDTOWkF"
      }
    },
    {
      "cell_type": "code",
      "source": [
        "train_maxl = max([len(s) for s in train_pre_seq])\n",
        "dev_maxl = max([len(s) for s in dev_pre_seq])\n",
        "# print ('Maximum length in the list of train_sentences:', train_maxl)\n",
        "maxl = max(train_maxl, dev_maxl)"
      ],
      "metadata": {
        "id": "UH0b3nG1S2CP"
      },
      "execution_count": 13,
      "outputs": []
    },
    {
      "cell_type": "code",
      "source": [
        "embedding_matrix = wv.vectors\n",
        "print(embedding_matrix.shape)"
      ],
      "metadata": {
        "colab": {
          "base_uri": "https://localhost:8080/"
        },
        "id": "9chgWGjHHhbi",
        "outputId": "145fef5c-9cf0-4118-c46a-c9a2ed23083f"
      },
      "execution_count": 14,
      "outputs": [
        {
          "output_type": "stream",
          "name": "stdout",
          "text": [
            "(1193514, 100)\n"
          ]
        }
      ]
    },
    {
      "cell_type": "markdown",
      "source": [
        "By mapping word to index in the sequences to get X_train and X_valid\n",
        "<br>If the word not in glove model, map this word to 'unk' index"
      ],
      "metadata": {
        "id": "69XCV3CROmTW"
      }
    },
    {
      "cell_type": "code",
      "source": [
        "X_train = np.zeros([len(train_pre_seq), maxl], dtype='float32')\n",
        "for i in range(len(train_pre_seq)):\n",
        "  for j in range(min(len(train_pre_seq[i]),maxl)):\n",
        "    try:\n",
        "      X_train[i,j] = wv.vocab[train_pre_seq[i][j]].index\n",
        "    except KeyError as e:\n",
        "      X_train[i,j] = wv.vocab['unk'].index\n",
        "\n",
        "X_valid = np.zeros([len(dev_pre_seq), maxl], dtype='float32')\n",
        "for i in range(len(dev_pre_seq)):\n",
        "  for j in range(min(len(dev_pre_seq[i]),maxl)):\n",
        "    try:\n",
        "      X_valid[i,j] = wv.vocab[dev_pre_seq[i][j]].index\n",
        "    except KeyError as e:\n",
        "      X_valid[i,j] = wv.vocab['unk'].index\n",
        "\n",
        "X_test = np.zeros([len(test_pre_seq), maxl], dtype='float32')\n",
        "for i in range(len(test_pre_seq)):\n",
        "  for j in range(min(len(test_pre_seq[i]),maxl)):\n",
        "    try:\n",
        "      X_test[i,j] = wv.vocab[test_pre_seq[i][j]].index\n",
        "    except KeyError as e:\n",
        "      X_test[i,j] = wv.vocab['unk'].index"
      ],
      "metadata": {
        "id": "Jn3hhfWVTUgQ"
      },
      "execution_count": null,
      "outputs": []
    },
    {
      "cell_type": "markdown",
      "source": [
        "One hot encoding and padding for y_train and y_valid"
      ],
      "metadata": {
        "id": "cwaxkYbkPy8b"
      }
    },
    {
      "cell_type": "code",
      "source": [
        "from keras.utils import to_categorical\n",
        "y_train = pad_sequences(maxlen=maxl, padding='post', sequences=y_train)\n",
        "y_train = to_categorical(y_train, num_classes=22) # (2394,41)->(2394,41,22)\n",
        "print(X_train.shape, y_train.shape)\n",
        "\n",
        "y_valid = pad_sequences(maxlen=maxl, padding='post', sequences=y_valid)\n",
        "y_valid = to_categorical(y_valid, num_classes=22) # (1000,41)->(1000,41,22)\n",
        "print(X_valid.shape, y_valid.shape)"
      ],
      "metadata": {
        "colab": {
          "base_uri": "https://localhost:8080/"
        },
        "id": "heOuXvHmZytA",
        "outputId": "a872f371-0145-43d4-dfa2-46a240937377"
      },
      "execution_count": 16,
      "outputs": [
        {
          "output_type": "stream",
          "name": "stdout",
          "text": [
            "(2394, 41) (2394, 41, 22)\n",
            "(1000, 41) (1000, 41, 22)\n"
          ]
        }
      ]
    },
    {
      "cell_type": "markdown",
      "source": [
        "### Model(LSTM)"
      ],
      "metadata": {
        "id": "-lSt9CvxaUpV"
      }
    },
    {
      "cell_type": "code",
      "source": [
        "from tensorflow.keras import Model, Input\n",
        "from tensorflow.keras.layers import LSTM, Embedding, Dense\n",
        "from tensorflow.keras.layers import TimeDistributed, SpatialDropout1D, Bidirectional"
      ],
      "metadata": {
        "id": "zdp_A11nacqs"
      },
      "execution_count": 17,
      "outputs": []
    },
    {
      "cell_type": "code",
      "source": [
        "input=Input(shape=maxl)\n",
        "model=Embedding(len(wv.vocab), 100)(input)\n",
        "model=SpatialDropout1D(0.2)(model)\n",
        "model=Bidirectional(LSTM(units=150,return_sequences=True, recurrent_dropout=0.1))(model)\n",
        "output = TimeDistributed(Dense(n_tags+1, activation=\"softmax\"))(model)"
      ],
      "metadata": {
        "id": "byVhfPFTfgam"
      },
      "execution_count": 18,
      "outputs": []
    },
    {
      "cell_type": "code",
      "source": [
        "model=Model(input,output)"
      ],
      "metadata": {
        "id": "Fd6ERz8Wf0tc"
      },
      "execution_count": 19,
      "outputs": []
    },
    {
      "cell_type": "code",
      "source": [
        "model.layers[1].set_weights([embedding_matrix])\n",
        "model.layers[1].trainable=False\n",
        "model.summary()"
      ],
      "metadata": {
        "colab": {
          "base_uri": "https://localhost:8080/"
        },
        "id": "2jR4S4UmgGVy",
        "outputId": "d0645b7f-d363-4e40-8114-366960a4384c"
      },
      "execution_count": 20,
      "outputs": [
        {
          "output_type": "stream",
          "name": "stdout",
          "text": [
            "Model: \"model\"\n",
            "_________________________________________________________________\n",
            " Layer (type)                Output Shape              Param #   \n",
            "=================================================================\n",
            " input_1 (InputLayer)        [(None, 41)]              0         \n",
            "                                                                 \n",
            " embedding (Embedding)       (None, 41, 100)           119351400 \n",
            "                                                                 \n",
            " spatial_dropout1d (SpatialD  (None, 41, 100)          0         \n",
            " ropout1D)                                                       \n",
            "                                                                 \n",
            " bidirectional (Bidirectiona  (None, 41, 300)          301200    \n",
            " l)                                                              \n",
            "                                                                 \n",
            " time_distributed (TimeDistr  (None, 41, 22)           6622      \n",
            " ibuted)                                                         \n",
            "                                                                 \n",
            "=================================================================\n",
            "Total params: 119,659,222\n",
            "Trainable params: 307,822\n",
            "Non-trainable params: 119,351,400\n",
            "_________________________________________________________________\n"
          ]
        }
      ]
    },
    {
      "cell_type": "code",
      "source": [
        "model.compile(optimizer='adam',loss='categorical_crossentropy',metrics=['accuracy'])"
      ],
      "metadata": {
        "id": "2BfBqzeGgThT"
      },
      "execution_count": 21,
      "outputs": []
    },
    {
      "cell_type": "code",
      "source": [
        "pip install livelossplot"
      ],
      "metadata": {
        "id": "4-fY5aL6d-4_"
      },
      "execution_count": null,
      "outputs": []
    },
    {
      "cell_type": "code",
      "source": [
        "from tensorflow.keras.callbacks import ModelCheckpoint, EarlyStopping\n",
        "from livelossplot.tf_keras import PlotLossesCallback"
      ],
      "metadata": {
        "id": "2aKn-hcHms3_"
      },
      "execution_count": 23,
      "outputs": []
    },
    {
      "cell_type": "code",
      "source": [
        "early_stop= EarlyStopping(monitor='val_accuracy',patience=1,verbose=0,mode='max',restore_best_weights=False)\n",
        "callbacks=[PlotLossesCallback(),early_stop]\n",
        "history=model.fit(X_train,np.array(y_train), validation_data=(X_valid, np.array(y_valid)), batch_size=32, epochs=10, verbose=1, callbacks=callbacks)"
      ],
      "metadata": {
        "colab": {
          "base_uri": "https://localhost:8080/",
          "height": 726
        },
        "id": "dho1JueCeEfO",
        "outputId": "2a5b94e6-5501-4834-8749-cf921dc85481"
      },
      "execution_count": 24,
      "outputs": [
        {
          "output_type": "display_data",
          "data": {
            "text/plain": [
              "<Figure size 864x576 with 2 Axes>"
            ],
            "image/png": "[encoded data removed]"
          },
          "metadata": {
            "needs_background": "light"
          }
        },
        {
          "output_type": "stream",
          "name": "stdout",
          "text": [
            "accuracy\n",
            "\ttraining         \t (min:    0.944, max:    0.980, cur:    0.980)\n",
            "\tvalidation       \t (min:    0.972, max:    0.976, cur:    0.974)\n",
            "Loss\n",
            "\ttraining         \t (min:    0.088, max:    0.333, cur:    0.088)\n",
            "\tvalidation       \t (min:    0.113, max:    0.163, cur:    0.117)\n",
            "\b\b\b\b\b\b\b\b\b\b\b\b\b\b\b\b\b\b\b\b\b\b\b\b\b\b\b\b\b\b\b\b\b\b\b\b\b\b\b\b\b\b\b\b\b\b\b\b\b\b\b\b\b\b\b\b\b\b\b\b\b\b\b\b\b\b\b\b\b\b\b\b\b\b\b\b\b\b\b\b\b\b\r75/75 [==============================] - 21s 276ms/step - loss: 0.0876 - accuracy: 0.9803 - val_loss: 0.1167 - val_accuracy: 0.9739\n"
          ]
        }
      ]
    },
    {
      "cell_type": "markdown",
      "source": [
        "Predict the dev dataset to evaluate"
      ],
      "metadata": {
        "id": "MgRQGFlEQTxK"
      }
    },
    {
      "cell_type": "code",
      "source": [
        "true_tags = []\n",
        "pred_tags = []\n",
        "for i in range(0, len(X_valid)):\n",
        "  pred = model.predict(np.array([X_valid[i]]))\n",
        "  pred = np.argmax(pred, axis=-1)\n",
        "  for j in range(0, maxl-1):\n",
        "    if(pred[0][j]!=0):\n",
        "      true_tags.append(valid_tags[i][j])\n",
        "      pred_tags.append(t_word[pred[0][j]])\n",
        "    else:\n",
        "      break"
      ],
      "metadata": {
        "id": "SsPqdacaS6ag"
      },
      "execution_count": null,
      "outputs": []
    },
    {
      "cell_type": "markdown",
      "source": [
        "## evaluating / dev 評估"
      ],
      "metadata": {
        "id": "NwQUo1BhM6TC"
      }
    },
    {
      "cell_type": "code",
      "source": [
        "!pip3 install datasets\n",
        "!wget https://raw.githubusercontent.com/sighsmile/conlleval/master/conlleval.py"
      ],
      "metadata": {
        "id": "G3qy0tImb8oj"
      },
      "execution_count": null,
      "outputs": []
    },
    {
      "cell_type": "markdown",
      "source": [
        "Evaluated by conlleval"
      ],
      "metadata": {
        "id": "3zyX0Y2lQnRu"
      }
    },
    {
      "cell_type": "code",
      "source": [
        "from conlleval import evaluate\n",
        "# print out the table as above\n",
        "evaluate(true_tags, pred_tags, verbose=True) \n",
        "\n",
        "# calculate overall metrics\n",
        "prec, rec, f1 = evaluate(true_tags, pred_tags, verbose=False)"
      ],
      "metadata": {
        "id": "k9F--H0McDXQ",
        "colab": {
          "base_uri": "https://localhost:8080/"
        },
        "outputId": "01d6ad25-e14b-44c0-d05d-1dcc9fdb0de9"
      },
      "execution_count": 27,
      "outputs": [
        {
          "output_type": "stream",
          "name": "stdout",
          "text": [
            "processed 16252 tokens with 661 phrases; found: 464 phrases; correct: 141.\n",
            "accuracy:  20.21%; (non-O)\n",
            "accuracy:  93.45%; precision:  30.39%; recall:  21.33%; FB1:  25.07\n",
            "          company: precision:  53.33%; recall:  20.51%; FB1:  29.63  15\n",
            "         facility: precision:  22.73%; recall:  13.16%; FB1:  16.67  22\n",
            "          geo-loc: precision:  32.45%; recall:  42.24%; FB1:  36.70  151\n",
            "            movie: precision:   0.00%; recall:   0.00%; FB1:   0.00  0\n",
            "      musicartist: precision:   0.00%; recall:   0.00%; FB1:   0.00  0\n",
            "            other: precision:   1.03%; recall:   0.76%; FB1:   0.87  97\n",
            "           person: precision:  46.95%; recall:  45.03%; FB1:  45.97  164\n",
            "          product: precision:   0.00%; recall:   0.00%; FB1:   0.00  10\n",
            "       sportsteam: precision:  20.00%; recall:   1.43%; FB1:   2.67  5\n",
            "           tvshow: precision:   0.00%; recall:   0.00%; FB1:   0.00  0\n"
          ]
        }
      ]
    },
    {
      "cell_type": "markdown",
      "source": [
        "Predict the test dataset and output the outcome to 'output.txt'"
      ],
      "metadata": {
        "id": "4lPfhM-pQtC2"
      }
    },
    {
      "cell_type": "code",
      "source": [
        "f = open(\"/content/drive/MyDrive/NLP_assignment1/data/output.txt\", \"w\")\n",
        "for i in range(0, len(X_test)):\n",
        "  pred = model.predict(np.array([X_test[i]]))\n",
        "  pred = np.argmax(pred, axis=-1)\n",
        "  for j in range(0, maxl-1):\n",
        "    if(pred[0][j]!=0):\n",
        "      f.write(test_sentences[i][j] + \"\\t\" + t_word[pred[0][j]] + \"\\n\")\n",
        "    else:\n",
        "      f.write(\"\\n\")\n",
        "      break\n",
        "f.close()"
      ],
      "metadata": {
        "id": "EWJDkd0xGnOl"
      },
      "execution_count": null,
      "outputs": []
    },
    {
      "cell_type": "markdown",
      "source": [
        "Create a requirements file"
      ],
      "metadata": {
        "id": "NQ0HDBUSRCmd"
      }
    },
    {
      "cell_type": "code",
      "source": [
        "pip freeze > requirements.txt"
      ],
      "metadata": {
        "id": "0B678LArENA6"
      },
      "execution_count": 29,
      "outputs": []
    }
  ]
}